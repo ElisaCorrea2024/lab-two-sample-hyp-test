{
 "cells": [
  {
   "cell_type": "markdown",
   "metadata": {},
   "source": [
    "# Before your start:\n",
    "- Read the README.md file\n",
    "- Comment as much as you can and use the resources (README.md file)\n",
    "- Happy learning!\n",
    "\n",
    "- **Consider a significance level of 5% for all tests.**"
   ]
  },
  {
   "cell_type": "code",
   "execution_count": 6,
   "metadata": {},
   "outputs": [
    {
     "name": "stdout",
     "output_type": "stream",
     "text": [
      "   #                   Name Type 1  Type 2  Total  HP  Attack  Defense  \\\n",
      "0  1              Bulbasaur  Grass  Poison    318  45      49       49   \n",
      "1  2                Ivysaur  Grass  Poison    405  60      62       63   \n",
      "2  3               Venusaur  Grass  Poison    525  80      82       83   \n",
      "3  3  VenusaurMega Venusaur  Grass  Poison    625  80     100      123   \n",
      "4  4             Charmander   Fire     NaN    309  39      52       43   \n",
      "\n",
      "   Sp. Atk  Sp. Def  Speed  Generation  Legendary  \n",
      "0       65       65     45           1      False  \n",
      "1       80       80     60           1      False  \n",
      "2      100      100     80           1      False  \n",
      "3      122      120     80           1      False  \n",
      "4       60       50     65           1      False  \n"
     ]
    }
   ],
   "source": [
    "# import numpy and pandas\n",
    "import pandas as pd\n",
    "\n",
    "# Cargar el archivo CSV\n",
    "df = pd.read_csv('pokemon.csv')\n",
    "\n",
    "# Mostrar las primeras filas para verificar que se cargó correctamente\n",
    "print(df.head())\n"
   ]
  },
  {
   "cell_type": "markdown",
   "metadata": {},
   "source": [
    "# Challenge 1 - Independent Sample T-tests\n",
    "\n",
    "In this challenge, we will be using the Pokemon dataset. Before applying statistical methods to this data, let's first examine the data.\n",
    "\n",
    "To load the data, run the code below."
   ]
  },
  {
   "cell_type": "code",
   "execution_count": 10,
   "metadata": {},
   "outputs": [],
   "source": [
    "# Run this code:\n",
    "\n",
    "pokemon = pd.read_csv('pokemon.csv')"
   ]
  },
  {
   "cell_type": "markdown",
   "metadata": {},
   "source": [
    "Let's start off by looking at the `head` function in the cell below."
   ]
  },
  {
   "cell_type": "code",
   "execution_count": 14,
   "metadata": {},
   "outputs": [
    {
     "data": {
      "text/html": [
       "<div>\n",
       "<style scoped>\n",
       "    .dataframe tbody tr th:only-of-type {\n",
       "        vertical-align: middle;\n",
       "    }\n",
       "\n",
       "    .dataframe tbody tr th {\n",
       "        vertical-align: top;\n",
       "    }\n",
       "\n",
       "    .dataframe thead th {\n",
       "        text-align: right;\n",
       "    }\n",
       "</style>\n",
       "<table border=\"1\" class=\"dataframe\">\n",
       "  <thead>\n",
       "    <tr style=\"text-align: right;\">\n",
       "      <th></th>\n",
       "      <th>#</th>\n",
       "      <th>Name</th>\n",
       "      <th>Type 1</th>\n",
       "      <th>Type 2</th>\n",
       "      <th>Total</th>\n",
       "      <th>HP</th>\n",
       "      <th>Attack</th>\n",
       "      <th>Defense</th>\n",
       "      <th>Sp. Atk</th>\n",
       "      <th>Sp. Def</th>\n",
       "      <th>Speed</th>\n",
       "      <th>Generation</th>\n",
       "      <th>Legendary</th>\n",
       "    </tr>\n",
       "  </thead>\n",
       "  <tbody>\n",
       "    <tr>\n",
       "      <th>0</th>\n",
       "      <td>1</td>\n",
       "      <td>Bulbasaur</td>\n",
       "      <td>Grass</td>\n",
       "      <td>Poison</td>\n",
       "      <td>318</td>\n",
       "      <td>45</td>\n",
       "      <td>49</td>\n",
       "      <td>49</td>\n",
       "      <td>65</td>\n",
       "      <td>65</td>\n",
       "      <td>45</td>\n",
       "      <td>1</td>\n",
       "      <td>False</td>\n",
       "    </tr>\n",
       "    <tr>\n",
       "      <th>1</th>\n",
       "      <td>2</td>\n",
       "      <td>Ivysaur</td>\n",
       "      <td>Grass</td>\n",
       "      <td>Poison</td>\n",
       "      <td>405</td>\n",
       "      <td>60</td>\n",
       "      <td>62</td>\n",
       "      <td>63</td>\n",
       "      <td>80</td>\n",
       "      <td>80</td>\n",
       "      <td>60</td>\n",
       "      <td>1</td>\n",
       "      <td>False</td>\n",
       "    </tr>\n",
       "    <tr>\n",
       "      <th>2</th>\n",
       "      <td>3</td>\n",
       "      <td>Venusaur</td>\n",
       "      <td>Grass</td>\n",
       "      <td>Poison</td>\n",
       "      <td>525</td>\n",
       "      <td>80</td>\n",
       "      <td>82</td>\n",
       "      <td>83</td>\n",
       "      <td>100</td>\n",
       "      <td>100</td>\n",
       "      <td>80</td>\n",
       "      <td>1</td>\n",
       "      <td>False</td>\n",
       "    </tr>\n",
       "    <tr>\n",
       "      <th>3</th>\n",
       "      <td>3</td>\n",
       "      <td>VenusaurMega Venusaur</td>\n",
       "      <td>Grass</td>\n",
       "      <td>Poison</td>\n",
       "      <td>625</td>\n",
       "      <td>80</td>\n",
       "      <td>100</td>\n",
       "      <td>123</td>\n",
       "      <td>122</td>\n",
       "      <td>120</td>\n",
       "      <td>80</td>\n",
       "      <td>1</td>\n",
       "      <td>False</td>\n",
       "    </tr>\n",
       "    <tr>\n",
       "      <th>4</th>\n",
       "      <td>4</td>\n",
       "      <td>Charmander</td>\n",
       "      <td>Fire</td>\n",
       "      <td>NaN</td>\n",
       "      <td>309</td>\n",
       "      <td>39</td>\n",
       "      <td>52</td>\n",
       "      <td>43</td>\n",
       "      <td>60</td>\n",
       "      <td>50</td>\n",
       "      <td>65</td>\n",
       "      <td>1</td>\n",
       "      <td>False</td>\n",
       "    </tr>\n",
       "  </tbody>\n",
       "</table>\n",
       "</div>"
      ],
      "text/plain": [
       "   #                   Name Type 1  Type 2  Total  HP  Attack  Defense  \\\n",
       "0  1              Bulbasaur  Grass  Poison    318  45      49       49   \n",
       "1  2                Ivysaur  Grass  Poison    405  60      62       63   \n",
       "2  3               Venusaur  Grass  Poison    525  80      82       83   \n",
       "3  3  VenusaurMega Venusaur  Grass  Poison    625  80     100      123   \n",
       "4  4             Charmander   Fire     NaN    309  39      52       43   \n",
       "\n",
       "   Sp. Atk  Sp. Def  Speed  Generation  Legendary  \n",
       "0       65       65     45           1      False  \n",
       "1       80       80     60           1      False  \n",
       "2      100      100     80           1      False  \n",
       "3      122      120     80           1      False  \n",
       "4       60       50     65           1      False  "
      ]
     },
     "execution_count": 14,
     "metadata": {},
     "output_type": "execute_result"
    }
   ],
   "source": [
    "# Your code here:\n",
    "pokemon.head()\n",
    "\n"
   ]
  },
  {
   "cell_type": "markdown",
   "metadata": {},
   "source": [
    "The first thing we would like to do is compare the legendary Pokemon to the regular Pokemon. To do this, we should examine the data further. What is the count of legendary vs. non legendary Pokemons?"
   ]
  },
  {
   "cell_type": "code",
   "execution_count": 16,
   "metadata": {},
   "outputs": [
    {
     "data": {
      "text/plain": [
       "array([False,  True])"
      ]
     },
     "execution_count": 16,
     "metadata": {},
     "output_type": "execute_result"
    }
   ],
   "source": [
    "# Your code here:\n",
    "pokemon.Legendary.unique()\n"
   ]
  },
  {
   "cell_type": "code",
   "execution_count": 18,
   "metadata": {},
   "outputs": [
    {
     "data": {
      "text/plain": [
       "Legendary\n",
       "False    735\n",
       "True      65\n",
       "Name: count, dtype: int64"
      ]
     },
     "execution_count": 18,
     "metadata": {},
     "output_type": "execute_result"
    }
   ],
   "source": [
    "pokemon.Legendary.value_counts()"
   ]
  },
  {
   "cell_type": "markdown",
   "metadata": {},
   "source": [
    "Compute the mean and standard deviation of the total points for both legendary and non-legendary Pokemon."
   ]
  },
  {
   "cell_type": "code",
   "execution_count": 22,
   "metadata": {},
   "outputs": [
    {
     "name": "stdout",
     "output_type": "stream",
     "text": [
      "Media de puntos totales para Pokémon legendarios: 637.38\n",
      "Desviación estándar de puntos totales para Pokémon legendarios: 60.94\n",
      "\n",
      "Media de puntos totales para Pokémon no legendarios: 417.21\n",
      "Desviación estándar de puntos totales para Pokémon no legendarios: 106.76\n"
     ]
    }
   ],
   "source": [
    "# Calcular la media y la desviación estándar de los puntos totales para Pokémon legendarios y no legendarios\n",
    "mean_legendary = df[df['Legendary'] == True]['Total'].mean()\n",
    "std_legendary = df[df['Legendary'] == True]['Total'].std()\n",
    "\n",
    "mean_non_legendary = df[df['Legendary'] == False]['Total'].mean()\n",
    "std_non_legendary = df[df['Legendary'] == False]['Total'].std()\n",
    "\n",
    "print(f\"Media de puntos totales para Pokémon legendarios: {mean_legendary:.2f}\")\n",
    "print(f\"Desviación estándar de puntos totales para Pokémon legendarios: {std_legendary:.2f}\\n\")\n",
    "\n",
    "print(f\"Media de puntos totales para Pokémon no legendarios: {mean_non_legendary:.2f}\")\n",
    "print(f\"Desviación estándar de puntos totales para Pokémon no legendarios: {std_non_legendary:.2f}\")\n"
   ]
  },
  {
   "cell_type": "markdown",
   "metadata": {},
   "source": [
    "The computation of the mean might give us a clue regarding how the statistical test may turn out; However, it certainly does not prove whether there is a significant difference between the two groups.\n",
    "\n",
    "In the cell below, use the `ttest_ind` function in `scipy.stats` to compare the the total points for legendary and non-legendary Pokemon. Since we do not have any information about the population, assume the variances are not equal."
   ]
  },
  {
   "cell_type": "code",
   "execution_count": 24,
   "metadata": {
    "scrolled": true
   },
   "outputs": [
    {
     "name": "stdout",
     "output_type": "stream",
     "text": [
      "Estadístico t: 25.83\n",
      "Valor p: 0.0000\n",
      "Hay una diferencia significativa en los puntos totales entre Pokémon legendarios y no legendarios (rechazamos la hipótesis nula).\n"
     ]
    }
   ],
   "source": [
    "# Your code here:\n",
    "from scipy.stats import ttest_ind\n",
    "\n",
    "# Separar los puntos totales para Pokémon legendarios y no legendarios\n",
    "legendary_total = df[df['Legendary'] == True]['Total']\n",
    "non_legendary_total = df[df['Legendary'] == False]['Total']\n",
    "\n",
    "# Realizar la prueba t de muestras independientes\n",
    "t_stat, p_value = ttest_ind(legendary_total, non_legendary_total, equal_var=False)\n",
    "\n",
    "print(f\"Estadístico t: {t_stat:.2f}\")\n",
    "print(f\"Valor p: {p_value:.4f}\")\n",
    "\n",
    "# Interpretación básica del resultado\n",
    "if p_value < 0.05:\n",
    "    print(\"Hay una diferencia significativa en los puntos totales entre Pokémon legendarios y no legendarios (rechazamos la hipótesis nula).\")\n",
    "else:\n",
    "    print(\"No hay una diferencia significativa en los puntos totales entre Pokémon legendarios y no legendarios (no rechazamos la hipótesis nula).\")\n",
    "\n"
   ]
  },
  {
   "cell_type": "markdown",
   "metadata": {},
   "source": [
    "What do you conclude from this test? Write your conclusions below."
   ]
  },
  {
   "cell_type": "code",
   "execution_count": 26,
   "metadata": {},
   "outputs": [],
   "source": [
    "# Your conclusions here:\n",
    "# La media de los puntos totales de los Pokémon legendarios (637.38) es significativamente mayor que la de los no legendarios (417.21).\n",
    "# Esto sugiere que, en promedio, los Pokémon legendarios son considerablemente más poderosos que los no legendarios.\n"
   ]
  },
  {
   "cell_type": "markdown",
   "metadata": {},
   "source": [
    "How about we try to compare the different types of pokemon? In the cell below, list the types of Pokemon from column `Type 1` and the count of each type."
   ]
  },
  {
   "cell_type": "code",
   "execution_count": 28,
   "metadata": {},
   "outputs": [
    {
     "name": "stdout",
     "output_type": "stream",
     "text": [
      "Type 1\n",
      "Water       112\n",
      "Normal       98\n",
      "Grass        70\n",
      "Bug          69\n",
      "Psychic      57\n",
      "Fire         52\n",
      "Electric     44\n",
      "Rock         44\n",
      "Dragon       32\n",
      "Ground       32\n",
      "Ghost        32\n",
      "Dark         31\n",
      "Poison       28\n",
      "Steel        27\n",
      "Fighting     27\n",
      "Ice          24\n",
      "Fairy        17\n",
      "Flying        4\n",
      "Name: count, dtype: int64\n"
     ]
    }
   ],
   "source": [
    "# Your code here:\n",
    "# Contar la cantidad de Pokémon por tipo en la columna 'Type 1'\n",
    "type_counts = df['Type 1'].value_counts()\n",
    "\n",
    "# Mostrar el resultado\n",
    "print(type_counts)\n"
   ]
  },
  {
   "cell_type": "markdown",
   "metadata": {},
   "source": [
    "Since water is the largest group of Pokemon, compare the mean and standard deviation of water Pokemon to all other Pokemon."
   ]
  },
  {
   "cell_type": "code",
   "execution_count": 30,
   "metadata": {},
   "outputs": [
    {
     "name": "stdout",
     "output_type": "stream",
     "text": [
      "Media de puntos totales para Pokémon de tipo Water: 430.46\n",
      "Desviación estándar de puntos totales para Pokémon de tipo Water: 113.19\n",
      "\n",
      "Media de puntos totales para Pokémon de otros tipos: 435.86\n",
      "Desviación estándar de puntos totales para Pokémon de otros tipos: 121.09\n"
     ]
    }
   ],
   "source": [
    "# Filtrar Pokémon de tipo Water y no Water\n",
    "water_pokemon = df[df['Type 1'] == 'Water']\n",
    "non_water_pokemon = df[df['Type 1'] != 'Water']\n",
    "\n",
    "# Calcular la media y la desviación estándar para los Pokémon de tipo Water\n",
    "mean_water = water_pokemon['Total'].mean()\n",
    "std_water = water_pokemon['Total'].std()\n",
    "\n",
    "# Calcular la media y la desviación estándar para todos los demás Pokémon\n",
    "mean_non_water = non_water_pokemon['Total'].mean()\n",
    "std_non_water = non_water_pokemon['Total'].std()\n",
    "\n",
    "# Mostrar los resultados\n",
    "print(f\"Media de puntos totales para Pokémon de tipo Water: {mean_water:.2f}\")\n",
    "print(f\"Desviación estándar de puntos totales para Pokémon de tipo Water: {std_water:.2f}\\n\")\n",
    "\n",
    "print(f\"Media de puntos totales para Pokémon de otros tipos: {mean_non_water:.2f}\")\n",
    "print(f\"Desviación estándar de puntos totales para Pokémon de otros tipos: {std_non_water:.2f}\")\n",
    "\n",
    "\n"
   ]
  },
  {
   "cell_type": "markdown",
   "metadata": {},
   "source": [
    "Perform a hypothesis test comparing the mean of total points for water Pokemon to all non-water Pokemon. Assume the variances are equal. "
   ]
  },
  {
   "cell_type": "code",
   "execution_count": 32,
   "metadata": {},
   "outputs": [
    {
     "name": "stdout",
     "output_type": "stream",
     "text": [
      "Estadístico t: -0.44\n",
      "Valor p: 0.6587\n",
      "No hay una diferencia significativa en los puntos totales entre Pokémon de tipo Water y Pokémon de otros tipos (no rechazamos la hipótesis nula).\n"
     ]
    }
   ],
   "source": [
    "from scipy.stats import ttest_ind\n",
    "\n",
    "# Filtrar los puntos totales para Pokémon de tipo Water y no Water\n",
    "water_total = df[df['Type 1'] == 'Water']['Total']\n",
    "non_water_total = df[df['Type 1'] != 'Water']['Total']\n",
    "\n",
    "# Realizar el test de T de muestras independientes (varianzas iguales)\n",
    "t_stat, p_value = ttest_ind(water_total, non_water_total, equal_var=True)\n",
    "\n",
    "# Mostrar los resultados del test\n",
    "print(f\"Estadístico t: {t_stat:.2f}\")\n",
    "print(f\"Valor p: {p_value:.4f}\")\n",
    "\n",
    "# Interpretación básica del resultado\n",
    "if p_value < 0.05:\n",
    "    print(\"Hay una diferencia significativa en los puntos totales entre Pokémon de tipo Water y Pokémon de otros tipos (rechazamos la hipótesis nula).\")\n",
    "else:\n",
    "    print(\"No hay una diferencia significativa en los puntos totales entre Pokémon de tipo Water y Pokémon de otros tipos (no rechazamos la hipótesis nula).\")\n",
    "\n",
    "\n"
   ]
  },
  {
   "cell_type": "markdown",
   "metadata": {},
   "source": [
    "Write your conclusion below."
   ]
  },
  {
   "cell_type": "code",
   "execution_count": 38,
   "metadata": {},
   "outputs": [],
   "source": [
    "# El resultado del test de hipótesis, con un estadístico t de -0.44 y un valor p de 0.6587, indica que no hay una diferencia\n",
    "# significativa en los puntos totales entre los Pokémon de tipo Water y los Pokémon de otros tipos.\n",
    "# Por lo tanto, no rechazamos la Hipótesis Nula. Dado que el valor p es mucho mayor que 0.05\n",
    "# Los resultados indican que, en términos de puntos totales, los Pokémon de tipo Water no tienen un desempeño estadísticamente\n",
    "# diferente al de los Pokémon de otros tipos."
   ]
  },
  {
   "cell_type": "markdown",
   "metadata": {},
   "source": [
    "# Challenge 2 - Matched Pairs Test\n",
    "\n",
    "In this challenge we will compare dependent samples of data describing our Pokemon. Our goal is to see whether there is a significant difference between each Pokemon's defense and attack scores. Our hypothesis is that the defense and attack scores are equal. In the cell below, import the `ttest_rel` function from `scipy.stats` and compare the two columns to see if there is a statistically significant difference between them."
   ]
  },
  {
   "cell_type": "code",
   "execution_count": 40,
   "metadata": {},
   "outputs": [
    {
     "name": "stdout",
     "output_type": "stream",
     "text": [
      "Estadístico t: 4.33\n",
      "Valor p: 0.0000\n",
      "Hay una diferencia significativa entre los puntajes de ataque y defensa de los Pokémon (rechazamos la hipótesis nula).\n"
     ]
    }
   ],
   "source": [
    "from scipy.stats import ttest_rel\n",
    "\n",
    "# Realizar la prueba t de muestras dependientes (pares relacionados) entre ataque y defensa\n",
    "t_stat, p_value = ttest_rel(df['Attack'], df['Defense'])\n",
    "\n",
    "# Mostrar los resultados de la prueba\n",
    "print(f\"Estadístico t: {t_stat:.2f}\")\n",
    "print(f\"Valor p: {p_value:.4f}\")\n",
    "\n",
    "# Interpretación básica del resultado\n",
    "if p_value < 0.05:\n",
    "    print(\"Hay una diferencia significativa entre los puntajes de ataque y defensa de los Pokémon (rechazamos la hipótesis nula).\")\n",
    "else:\n",
    "    print(\"No hay una diferencia significativa entre los puntajes de ataque y defensa de los Pokémon (no rechazamos la hipótesis nula).\")\n",
    "\n",
    "\n"
   ]
  },
  {
   "cell_type": "markdown",
   "metadata": {},
   "source": [
    "Describe the results of the test in the cell below."
   ]
  },
  {
   "cell_type": "code",
   "execution_count": 42,
   "metadata": {},
   "outputs": [],
   "source": [
    "# Hay una diferencia significativa entre los puntajes de ataque y defensa de los Pokémon (rechazamos la hipótesis nula).\n",
    "\n"
   ]
  },
  {
   "cell_type": "markdown",
   "metadata": {},
   "source": [
    "We are also curious about whether therer is a significant difference between the mean of special defense and the mean of special attack. Perform the hypothesis test in the cell below. "
   ]
  },
  {
   "cell_type": "code",
   "execution_count": 7,
   "metadata": {},
   "outputs": [
    {
     "name": "stdout",
     "output_type": "stream",
     "text": [
      "Estadístico t: 13.42\n",
      "Valor p: 0.0000\n",
      "Hay una diferencia significativa en el 'Special Attack' entre Pokémon legendarios y no legendarios (se rechaza la hipótesis nula).\n"
     ]
    }
   ],
   "source": [
    "import pandas as pd\n",
    "from scipy.stats import ttest_ind\n",
    "\n",
    "# Cargar el archivo CSV de Pokémon\n",
    "df = pd.read_csv('pokemon.csv')\n",
    "\n",
    "# Asegurarse de que no hay valores nulos en 'Special Attack' y 'Legendary'\n",
    "df_cleaned = df.dropna(subset=['Sp. Atk', 'Legendary'])\n",
    "\n",
    "# Dividir los datos en dos grupos: Pokémon legendarios y no legendarios\n",
    "legendary = df_cleaned[df_cleaned['Legendary'] == True]['Sp. Atk']\n",
    "non_legendary = df_cleaned[df_cleaned['Legendary'] == False]['Sp. Atk']\n",
    "\n",
    "# Realizar el test de hipótesis usando una prueba t para muestras independientes\n",
    "t_stat, p_value = ttest_ind(legendary, non_legendary, equal_var=False)  # Asumimos varianzas desiguales\n",
    "\n",
    "# Mostrar los resultados\n",
    "print(f\"Estadístico t: {t_stat:.2f}\")\n",
    "print(f\"Valor p: {p_value:.4f}\")\n",
    "\n",
    "# Interpretación del resultado\n",
    "if p_value < 0.05:\n",
    "    print(\"Hay una diferencia significativa en el 'Special Attack' entre Pokémon legendarios y no legendarios (se rechaza la hipótesis nula).\")\n",
    "else:\n",
    "    print(\"No hay una diferencia significativa en el 'Special Attack' entre Pokémon legendarios y no legendarios (no se rechaza la hipótesis nula).\")\n",
    "\n"
   ]
  },
  {
   "cell_type": "markdown",
   "metadata": {},
   "source": [
    "Describe the results of the test in the cell below."
   ]
  },
  {
   "cell_type": "code",
   "execution_count": 9,
   "metadata": {},
   "outputs": [],
   "source": [
    "# Hay una diferencia significativa en el 'Special Attack' entre Pokémon legendarios y no legendarios (se rechaza la hipótesis nula).\n",
    "\n"
   ]
  },
  {
   "cell_type": "markdown",
   "metadata": {},
   "source": [
    "As you may recall, a two sample matched pairs test can also be expressed as a one sample test of the difference between the two dependent columns.\n",
    "\n",
    "Import the `ttest_1samp` function and perform a one sample t-test of the difference between defense and attack. Test the hypothesis that the difference between the means is zero. Confirm that the results of the test are the same."
   ]
  },
  {
   "cell_type": "code",
   "execution_count": 11,
   "metadata": {},
   "outputs": [
    {
     "name": "stdout",
     "output_type": "stream",
     "text": [
      "Estadístico t: -4.33\n",
      "Valor p: 0.0000\n",
      "La diferencia entre 'Defense' y 'Attack' es estadísticamente significativa (se rechaza la hipótesis nula de que la diferencia media es igual a cero).\n"
     ]
    }
   ],
   "source": [
    "from scipy.stats import ttest_1samp\n",
    "\n",
    "# Calcular la diferencia entre defensa y ataque\n",
    "df['Difference_Defense_Attack'] = df['Defense'] - df['Attack']\n",
    "\n",
    "# Realizar un test de una muestra para comprobar si la media de la diferencia es igual a 0\n",
    "t_stat, p_value = ttest_1samp(df['Difference_Defense_Attack'].dropna(), 0)\n",
    "\n",
    "# Mostrar los resultados del test\n",
    "print(f\"Estadístico t: {t_stat:.2f}\")\n",
    "print(f\"Valor p: {p_value:.4f}\")\n",
    "\n",
    "# Interpretación del resultado\n",
    "if p_value < 0.05:\n",
    "    print(\"La diferencia entre 'Defense' y 'Attack' es estadísticamente significativa (se rechaza la hipótesis nula de que la diferencia media es igual a cero).\")\n",
    "else:\n",
    "    print(\"No hay una diferencia estadísticamente significativa entre 'Defense' y 'Attack' (no se rechaza la hipótesis nula de que la diferencia media es igual a cero).\")\n",
    "\n",
    "    \n",
    "    "
   ]
  },
  {
   "cell_type": "markdown",
   "metadata": {},
   "source": [
    "# Bonus Challenge - The Chi-Square Test\n",
    "\n",
    "The Chi-Square test is used to determine whether there is a statistically significant difference in frequencies. In other words, we are testing whether there is a relationship between categorical variables or rather when the variables are independent. This test is an alternative to Fisher's exact test and is used in scenarios where sample sizes are larger. However, with a large enough sample size, both tests produce similar results. Read more about the Chi Squared test [here](https://en.wikipedia.org/wiki/Chi-squared_test).\n",
    "\n",
    "In the cell below, create a contingency table using `pd.crosstab` comparing whether a Pokemon is legenadary or not and whether the Type 1 of a Pokemon is water or not."
   ]
  },
  {
   "cell_type": "code",
   "execution_count": null,
   "metadata": {},
   "outputs": [],
   "source": [
    "# Your code here:\n",
    "\n"
   ]
  },
  {
   "cell_type": "markdown",
   "metadata": {},
   "source": [
    "Perform a chi-squared test using the `chi2_contingency` function in `scipy.stats`. You can read the documentation of the function [here](https://docs.scipy.org/doc/scipy-0.15.1/reference/generated/scipy.stats.chi2_contingency.html)."
   ]
  },
  {
   "cell_type": "code",
   "execution_count": null,
   "metadata": {},
   "outputs": [],
   "source": [
    "# Your code here:\n",
    "\n"
   ]
  },
  {
   "cell_type": "markdown",
   "metadata": {},
   "source": [
    "Based on a 95% confidence, should we reject the null hypothesis?"
   ]
  },
  {
   "cell_type": "code",
   "execution_count": null,
   "metadata": {},
   "outputs": [],
   "source": [
    "# Your answer here:\n",
    "\n"
   ]
  },
  {
   "cell_type": "code",
   "execution_count": null,
   "metadata": {},
   "outputs": [],
   "source": []
  }
 ],
 "metadata": {
  "kernelspec": {
   "display_name": "Python 3 (ipykernel)",
   "language": "python",
   "name": "python3"
  },
  "language_info": {
   "codemirror_mode": {
    "name": "ipython",
    "version": 3
   },
   "file_extension": ".py",
   "mimetype": "text/x-python",
   "name": "python",
   "nbconvert_exporter": "python",
   "pygments_lexer": "ipython3",
   "version": "3.12.4"
  }
 },
 "nbformat": 4,
 "nbformat_minor": 4
}
